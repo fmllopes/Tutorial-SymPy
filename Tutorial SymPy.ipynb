{
 "cells": [
  {
   "cell_type": "markdown",
   "metadata": {
    "colab_type": "text",
    "id": "qpHv8efvkZyh"
   },
   "source": [
    "# Primeiros passos"
   ]
  },
  {
   "cell_type": "markdown",
   "metadata": {},
   "source": [
    "O SymPy é uma biblioteca da linguagem Python utilizada para programação simbólica, isto significa que ela irá manipular símbolos de expressões matemáticas. Para podermos utilizar suas funcionalidades devemos: realizar a importação desta biblioteca, informar o formato dos símbolos que serão apresentados e também indicar as variáveis que serão utilizadas no projeto. Podemos fazer isto, com os comandos:"
   ]
  },
  {
   "cell_type": "code",
   "execution_count": 1,
   "metadata": {
    "colab": {},
    "colab_type": "code",
    "id": "Lx1XJhrxkmKa"
   },
   "outputs": [],
   "source": [
    "from sympy import * \n",
    "init_printing(use_unicode = True)\n",
    "x,y = symbols('x y')"
   ]
  },
  {
   "cell_type": "markdown",
   "metadata": {
    "colab_type": "text",
    "id": "s5HxrFtHkqx0"
   },
   "source": [
    "Na primeira linha do código acima realizamos a importação da biblioteca SymPy. Na segunda linha informamos ao Python que a saída de dados deve utilizar caracteres no formato UNICODE. Já na terceira linha informamos que as variáveis $x$ e $y$ serão utilizadas como variáveis neste projeto. "
   ]
  },
  {
   "cell_type": "markdown",
   "metadata": {},
   "source": [
    "Assim, execute os códigos acima antes de utilizar qualquer outra ferramenta desta biblioteca.   "
   ]
  },
  {
   "cell_type": "markdown",
   "metadata": {},
   "source": [
    "# Comandos básicos"
   ]
  },
  {
   "cell_type": "markdown",
   "metadata": {},
   "source": [
    "## Substituição de variáveis"
   ]
  },
  {
   "cell_type": "markdown",
   "metadata": {},
   "source": [
    "Uma das propriedades mais utilizadas e mais básicas na matemática é a substituição. O primeiro tipo de substituição que aprendemos em matemática é trocar uma variável por um valor numérico. No SymPy fazemos usando o método `subs`. Podemos usar este comando para determinar o valor numérico de uma expressão. Veja o exemplo a seguir:"
   ]
  },
  {
   "cell_type": "markdown",
   "metadata": {},
   "source": [
    "Considere a função $f(x)=x^2$, se desejarmos obter o valor numérico de $f(2)$, podemos escrever os seguintes comandos:  "
   ]
  },
  {
   "cell_type": "code",
   "execution_count": 2,
   "metadata": {},
   "outputs": [
    {
     "data": {
      "image/png": "[encoded data removed]",
      "text/latex": [
       "$\\displaystyle 4$"
      ],
      "text/plain": [
       "4"
      ]
     },
     "execution_count": 2,
     "metadata": {},
     "output_type": "execute_result"
    }
   ],
   "source": [
    "f = x**2\n",
    "f.subs(x,2)"
   ]
  },
  {
   "cell_type": "markdown",
   "metadata": {},
   "source": [
    "No código acima, informamos ao Python que a expressão $x^2$ está sendo armazenada na variável $f$. "
   ]
  },
  {
   "cell_type": "markdown",
   "metadata": {},
   "source": [
    "Uma outra forma de substituição é trocar uma variável por outra. Também podemos usar o método `subs` para realizar esta tarefa. Contudo, a saída de dados será uma expressão algébrica. "
   ]
  },
  {
   "cell_type": "markdown",
   "metadata": {},
   "source": [
    "No estudo de funções, está é um prática muito comum, chamada de composição. Por exemplo, dada a função $f(x)= -x^3 + 2$ , podemos obter a função composta $f(x+1)$ usando o seguinte código:"
   ]
  },
  {
   "cell_type": "code",
   "execution_count": 3,
   "metadata": {},
   "outputs": [
    {
     "data": {
      "image/png": "[encoded data removed]",
      "text/latex": [
       "$\\displaystyle 2 - \\left(x + 1\\right)^{3}$"
      ],
      "text/plain": [
       "           3\n",
       "2 - (x + 1) "
      ]
     },
     "execution_count": 3,
     "metadata": {},
     "output_type": "execute_result"
    }
   ],
   "source": [
    "f = -x**3+2\n",
    "f.subs(x,x+1)"
   ]
  },
  {
   "cell_type": "markdown",
   "metadata": {},
   "source": [
    "## Simplificação"
   ]
  },
  {
   "cell_type": "markdown",
   "metadata": {},
   "source": [
    "Uma das ferramentas mais interessantes em um programação simbólica é a capacidade de simplificar expressões matemáticas complexas ou extensas. Uma função que pode ser utilizada para este proposito é o `simplify()`."
   ]
  },
  {
   "cell_type": "markdown",
   "metadata": {},
   "source": [
    "Por exemplo, se desejarmos simplificar a função $f(x) = \\frac{x^2-5x+6}{x-2}$, a qual está definida para todo número real diferente de 2, podemos usar os seguintes comandos:"
   ]
  },
  {
   "cell_type": "code",
   "execution_count": 4,
   "metadata": {},
   "outputs": [
    {
     "data": {
      "image/png": "[encoded data removed]",
      "text/latex": [
       "$\\displaystyle x - 3$"
      ],
      "text/plain": [
       "x - 3"
      ]
     },
     "execution_count": 4,
     "metadata": {},
     "output_type": "execute_result"
    }
   ],
   "source": [
    "f = (x**2 -5*x + 6)/(x-2)\n",
    "simplify(f)"
   ]
  },
  {
   "cell_type": "markdown",
   "metadata": {},
   "source": [
    "Outra função utilizada para simplificação é o `expand()`. Esta função é capaz de apresentar um polinômio na forma canônica, como uma soma de monômios."
   ]
  },
  {
   "cell_type": "markdown",
   "metadata": {},
   "source": [
    "Por exemplo, dada a função polinomial $f(x)=(x-2)(x-3)$, podemos obter a forma canônica pelos códigos a seguir:"
   ]
  },
  {
   "cell_type": "code",
   "execution_count": 5,
   "metadata": {},
   "outputs": [
    {
     "data": {
      "image/png": "[encoded data removed]",
      "text/latex": [
       "$\\displaystyle x^{2} - 5 x + 6$"
      ],
      "text/plain": [
       " 2          \n",
       "x  - 5⋅x + 6"
      ]
     },
     "execution_count": 5,
     "metadata": {},
     "output_type": "execute_result"
    }
   ],
   "source": [
    "f = (x-2)*(x-3)\n",
    "expand(f)"
   ]
  },
  {
   "cell_type": "markdown",
   "metadata": {},
   "source": [
    "Também podemos expandir uma função polinômial em fatores irredutíveis usando a função `factor()`. Veja o exemplo a seguir. "
   ]
  },
  {
   "cell_type": "code",
   "execution_count": 6,
   "metadata": {},
   "outputs": [
    {
     "data": {
      "image/png": "[encoded data removed]",
      "text/latex": [
       "$\\displaystyle \\left(x - 6\\right) \\left(x + 1\\right)$"
      ],
      "text/plain": [
       "(x - 6)⋅(x + 1)"
      ]
     },
     "execution_count": 6,
     "metadata": {},
     "output_type": "execute_result"
    }
   ],
   "source": [
    "f = x**2 -5*x - 6\n",
    "factor(f)"
   ]
  },
  {
   "cell_type": "markdown",
   "metadata": {
    "colab_type": "text",
    "id": "UQPeQ_BKlnk8"
   },
   "source": [
    "# Cálculo Diferencial e Integral"
   ]
  },
  {
   "cell_type": "markdown",
   "metadata": {},
   "source": [
    "## Limites"
   ]
  },
  {
   "cell_type": "markdown",
   "metadata": {
    "colab_type": "text",
    "id": "VVYA3W8bl7ks"
   },
   "source": [
    "A função `limit()` é utilizada para calcularmos o limite de função em um ponto. Para utilizá-la será necessário fornecer três argumentos: `(expressão, variável, ponto)`. "
   ]
  },
  {
   "cell_type": "markdown",
   "metadata": {},
   "source": [
    "Por exemplo, para calcular $ \\displaystyle{\\lim_{x \\to 1} \\frac{x^2-1}{x-1}}$ escrevemos os seguintes códigos:"
   ]
  },
  {
   "cell_type": "code",
   "execution_count": 7,
   "metadata": {
    "colab": {
     "base_uri": "https://localhost:8080/",
     "height": 34
    },
    "colab_type": "code",
    "id": "T-oq8BIsl7D2",
    "outputId": "7e0a2c25-539f-4fd9-9db1-65478ee4bd48"
   },
   "outputs": [
    {
     "data": {
      "image/png": "[encoded data removed]",
      "text/latex": [
       "$\\displaystyle 2$"
      ],
      "text/plain": [
       "2"
      ]
     },
     "execution_count": 7,
     "metadata": {},
     "output_type": "execute_result"
    }
   ],
   "source": [
    "f = (x**2-1)/(x-1)\n",
    "limit(f,x,1)"
   ]
  },
  {
   "cell_type": "markdown",
   "metadata": {
    "colab_type": "text",
    "id": "9JEsJZ1YnJUB"
   },
   "source": [
    "Podemos, também, calcular um limite lateral. Para isso, basta adicionar mais um argumento a função `limit()`. Neste caso serão quatro argumentos: `(expressão, variável, ponto, tipo)`. Para limite lateral pela esquerda o tipo deve ser indicado por `'-'` enquanto que para o limite lateral pela direita o tipo deve ser indicado por `'+'`."
   ]
  },
  {
   "cell_type": "markdown",
   "metadata": {},
   "source": [
    "Exemplo: Para calcular $\\displaystyle{\\lim_{x \\to 1^-} \\frac{x^2-1}{x-1}}$ escrevemos:"
   ]
  },
  {
   "cell_type": "code",
   "execution_count": 8,
   "metadata": {
    "colab": {
     "base_uri": "https://localhost:8080/",
     "height": 34
    },
    "colab_type": "code",
    "id": "o997ABHXnzCE",
    "outputId": "90d3dad4-be69-4093-a9e8-e1174a378331"
   },
   "outputs": [
    {
     "data": {
      "image/png": "[encoded data removed]",
      "text/latex": [
       "$\\displaystyle 2$"
      ],
      "text/plain": [
       "2"
      ]
     },
     "execution_count": 8,
     "metadata": {},
     "output_type": "execute_result"
    }
   ],
   "source": [
    "f = (x**2-1)/(x-1)\n",
    "limit(f,x,1,'-')"
   ]
  },
  {
   "cell_type": "markdown",
   "metadata": {},
   "source": [
    "## Derivada"
   ]
  },
  {
   "cell_type": "markdown",
   "metadata": {
    "colab_type": "text",
    "id": "LDbGxpdwn_16"
   },
   "source": [
    "Utilizamos a função `diff()` para obtermos a derivada de uma função, fornecendo dois argumentos `(expressão, variável)`. "
   ]
  },
  {
   "cell_type": "markdown",
   "metadata": {},
   "source": [
    "Por exemplo, dada a função $f(x)= x^2 + \\sin(x)$, podemos obter a função $\\displaystyle \\frac{df}{dx}(x)$ através dos seguintes comandos:"
   ]
  },
  {
   "cell_type": "code",
   "execution_count": 9,
   "metadata": {
    "colab": {
     "base_uri": "https://localhost:8080/",
     "height": 34
    },
    "colab_type": "code",
    "id": "huxgRXB6ofRr",
    "outputId": "39c6fb35-8837-481e-fc77-03c3eaa286a8"
   },
   "outputs": [
    {
     "data": {
      "image/png": "[encoded data removed]",
      "text/latex": [
       "$\\displaystyle 2 x + \\cos{\\left(x \\right)}$"
      ],
      "text/plain": [
       "2⋅x + cos(x)"
      ]
     },
     "execution_count": 9,
     "metadata": {},
     "output_type": "execute_result"
    }
   ],
   "source": [
    "f = x**2 + sin(x)\n",
    "diff(f,x)"
   ]
  },
  {
   "cell_type": "markdown",
   "metadata": {
    "colab_type": "text",
    "id": "Myz03y13pIWT"
   },
   "source": [
    "A função `diff()` também calcula uma derivada parcial. Veja o exemplo a seguir: "
   ]
  },
  {
   "cell_type": "markdown",
   "metadata": {},
   "source": [
    "Dada a função $f(x,y)=x^2+y^2$, calculamos $\\displaystyle \\frac{\\partial f}{\\partial y} (x,y)$ através dos comandos:"
   ]
  },
  {
   "cell_type": "code",
   "execution_count": 10,
   "metadata": {
    "colab": {
     "base_uri": "https://localhost:8080/",
     "height": 34
    },
    "colab_type": "code",
    "id": "UEIe17W6pbFj",
    "outputId": "905d6726-90d3-4478-b581-921c4a297182"
   },
   "outputs": [
    {
     "data": {
      "image/png": "[encoded data removed]",
      "text/latex": [
       "$\\displaystyle 2 y$"
      ],
      "text/plain": [
       "2⋅y"
      ]
     },
     "execution_count": 10,
     "metadata": {},
     "output_type": "execute_result"
    }
   ],
   "source": [
    "f = x**2+y**2\n",
    "diff(f, y)"
   ]
  },
  {
   "cell_type": "markdown",
   "metadata": {},
   "source": [
    "## Integral"
   ]
  },
  {
   "cell_type": "markdown",
   "metadata": {
    "colab_type": "text",
    "id": "5MKQ5UBHpnAz"
   },
   "source": [
    "Para calcularmos uma integral indefinida (primitiva) devemos utilizar a função `integrate()`, fornecendo dois argumentos: `(expressão, variável)`. "
   ]
  },
  {
   "cell_type": "markdown",
   "metadata": {},
   "source": [
    "Exemplo: Obtemos $ \\displaystyle \\int 3x^2 dx $ através dos seguintes comandos:"
   ]
  },
  {
   "cell_type": "code",
   "execution_count": 11,
   "metadata": {
    "colab": {
     "base_uri": "https://localhost:8080/",
     "height": 34
    },
    "colab_type": "code",
    "id": "pNKIPbGTp6XR",
    "outputId": "4ff8bb7f-7e6f-49c3-87ff-bf847298a00e"
   },
   "outputs": [
    {
     "data": {
      "image/png": "[encoded data removed]",
      "text/latex": [
       "$\\displaystyle x^{3}$"
      ],
      "text/plain": [
       " 3\n",
       "x "
      ]
     },
     "execution_count": 11,
     "metadata": {},
     "output_type": "execute_result"
    }
   ],
   "source": [
    "f=3*x**2\n",
    "integrate(f,x)"
   ]
  },
  {
   "cell_type": "markdown",
   "metadata": {
    "colab_type": "text",
    "id": "6aCK_XPwqAqU"
   },
   "source": [
    "Observe que no SymPy a constante de integração não é apresentada. Com a função `integrate()` também podemos determinar a integral definida de uma função. Neste caso, haverá uma diferença: o segundo argumento desta função deverá ser um tripla `(variável, ponto inicial, ponto final)`."
   ]
  },
  {
   "cell_type": "markdown",
   "metadata": {
    "colab_type": "text",
    "id": "wuHodN5PqGT9"
   },
   "source": [
    " Por exemplo, para calcularmos $\\displaystyle \\int_{0}^{1} x^2 dx$ devemos escrever os comandos:"
   ]
  },
  {
   "cell_type": "code",
   "execution_count": 12,
   "metadata": {
    "colab": {
     "base_uri": "https://localhost:8080/",
     "height": 34
    },
    "colab_type": "code",
    "id": "Xh6DKi_Yqlb7",
    "outputId": "421c889a-ae90-4dbb-c672-8ef9c91f72d0"
   },
   "outputs": [
    {
     "data": {
      "image/png": "[encoded data removed]",
      "text/latex": [
       "$\\displaystyle \\frac{1}{3}$"
      ],
      "text/plain": [
       "1/3"
      ]
     },
     "execution_count": 12,
     "metadata": {},
     "output_type": "execute_result"
    }
   ],
   "source": [
    "f=x**2\n",
    "integrate(f,(x,0,1)) "
   ]
  },
  {
   "cell_type": "markdown",
   "metadata": {},
   "source": [
    "## Aproximações de funções por polinômios de Taylor"
   ]
  },
  {
   "cell_type": "markdown",
   "metadata": {
    "colab_type": "text",
    "id": "AajHAkC9qtKx"
   },
   "source": [
    "O SymPy também fornece a expansão em série de Taylor de uma função sobre um ponto. A função que realiza esta tarefa é a `series()`, fornecendo quatro argumentos: `(expressão, variável, ponto,grau do polinômio)`. "
   ]
  },
  {
   "cell_type": "markdown",
   "metadata": {},
   "source": [
    "No exemplo a seguir, calculamos a expansão em série de Taylor da função $f(x)=\\cos(x)$, no ponto $x=0$, usando um polinômio de terceiro grau."
   ]
  },
  {
   "cell_type": "code",
   "execution_count": 13,
   "metadata": {
    "colab": {
     "base_uri": "https://localhost:8080/",
     "height": 34
    },
    "colab_type": "code",
    "id": "ZEkNG3SirL1P",
    "outputId": "6e17a100-9508-473b-a07b-dbd54f15e922"
   },
   "outputs": [
    {
     "data": {
      "image/png": "[encoded data removed]",
      "text/latex": [
       "$\\displaystyle 1 - \\frac{x^{2}}{2} + O\\left(x^{3}\\right)$"
      ],
      "text/plain": [
       "     2        \n",
       "    x     ⎛ 3⎞\n",
       "1 - ── + O⎝x ⎠\n",
       "    2         "
      ]
     },
     "execution_count": 13,
     "metadata": {},
     "output_type": "execute_result"
    }
   ],
   "source": [
    "f=cos(x)\n",
    "series(f,x,0,3)"
   ]
  }
 ],
 "metadata": {
  "colab": {
   "collapsed_sections": [
    "CMHwRspxhf6m",
    "PcosxXpcj9q1",
    "qpHv8efvkZyh",
    "UQPeQ_BKlnk8"
   ],
   "name": "Copy of SymPy.ipynb",
   "provenance": []
  },
  "kernelspec": {
   "display_name": "Python 3",
   "language": "python",
   "name": "python3"
  },
  "language_info": {
   "codemirror_mode": {
    "name": "ipython",
    "version": 3
   },
   "file_extension": ".py",
   "mimetype": "text/x-python",
   "name": "python",
   "nbconvert_exporter": "python",
   "pygments_lexer": "ipython3",
   "version": "3.6.10"
  }
 },
 "nbformat": 4,
 "nbformat_minor": 4
}
